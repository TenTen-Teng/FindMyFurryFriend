{
 "cells": [
  {
   "cell_type": "markdown",
   "metadata": {},
   "source": [
    "# Model training\n",
    "* **Project name:** cat and dog classifier\n",
    "* **Author:** Teng Li\n",
    "* ** Date:** 05.10.2019\n",
    "\n",
    "This script is used to train model"
   ]
  },
  {
   "cell_type": "code",
   "execution_count": 1,
   "metadata": {
    "collapsed": false
   },
   "outputs": [
    {
     "name": "stderr",
     "output_type": "stream",
     "text": [
      "Using TensorFlow backend.\n"
     ]
    }
   ],
   "source": [
    "from data_generator import DataGenerator\n",
    "import keras.backend as K\n",
    "import pandas as pd\n",
    "from create_mdoel import create_model\n",
    "from train import train\n"
   ]
  },
  {
   "cell_type": "code",
   "execution_count": 7,
   "metadata": {
    "collapsed": false,
    "scrolled": true
   },
   "outputs": [
    {
     "name": "stdout",
     "output_type": "stream",
     "text": [
      "---generate data for training---\n",
      "---training...---\n",
      "creating model...\n",
      "save model to JSON file\n",
      "load model!\n",
      "Epoch 1/50\n",
      "63/62 [==============================] - 1543s 24s/step - loss: 0.1348 - acc: 0.9420 - val_loss: 0.0340 - val_acc: 0.9821\n",
      "\n",
      "Epoch 00001: val_acc improved from -inf to 0.98214, saving model to ../models/densenet121_val_acc_best.h5\n",
      "\n",
      "Epoch 00001: val_loss improved from inf to 0.03397, saving model to ../models/densenet121_val_loss_best.h5\n",
      "Epoch 2/50\n",
      "63/62 [==============================] - 1503s 24s/step - loss: 0.0212 - acc: 0.9945 - val_loss: 0.0182 - val_acc: 0.9911\n",
      "\n",
      "Epoch 00002: val_acc improved from 0.98214 to 0.99107, saving model to ../models/densenet121_val_acc_best.h5\n",
      "\n",
      "Epoch 00002: val_loss improved from 0.03397 to 0.01815, saving model to ../models/densenet121_val_loss_best.h5\n",
      "Epoch 3/50\n",
      "63/62 [==============================] - 1525s 24s/step - loss: 0.0117 - acc: 0.9955 - val_loss: 0.0271 - val_acc: 0.9911\n",
      "\n",
      "Epoch 00003: val_acc did not improve from 0.99107\n",
      "\n",
      "Epoch 00003: val_loss did not improve from 0.01815\n",
      "Epoch 4/50\n",
      "63/62 [==============================] - 1617s 26s/step - loss: 0.0072 - acc: 0.9985 - val_loss: 0.0394 - val_acc: 0.9821\n",
      "\n",
      "Epoch 00004: val_acc did not improve from 0.99107\n",
      "\n",
      "Epoch 00004: val_loss did not improve from 0.01815\n",
      "Epoch 5/50\n",
      "63/62 [==============================] - 1574s 25s/step - loss: 0.0051 - acc: 0.9995 - val_loss: 0.0566 - val_acc: 0.9777\n",
      "\n",
      "Epoch 00005: val_acc did not improve from 0.99107\n",
      "\n",
      "Epoch 00005: val_loss did not improve from 0.01815\n",
      "Epoch 6/50\n",
      "63/62 [==============================] - 1608s 26s/step - loss: 0.0019 - acc: 1.0000 - val_loss: 0.0489 - val_acc: 0.9821\n",
      "\n",
      "Epoch 00006: val_acc did not improve from 0.99107\n",
      "\n",
      "Epoch 00006: val_loss did not improve from 0.01815\n",
      "Epoch 7/50\n",
      "63/62 [==============================] - 3133s 50s/step - loss: 9.9349e-04 - acc: 1.0000 - val_loss: 0.0577 - val_acc: 0.9732\n",
      "\n",
      "Epoch 00007: val_acc did not improve from 0.99107\n",
      "\n",
      "Epoch 00007: val_loss did not improve from 0.01815\n",
      "Epoch 8/50\n",
      "63/62 [==============================] - 1427s 23s/step - loss: 0.0011 - acc: 1.0000 - val_loss: 0.0603 - val_acc: 0.9732\n",
      "\n",
      "Epoch 00008: val_acc did not improve from 0.99107\n",
      "\n",
      "Epoch 00008: val_loss did not improve from 0.01815\n",
      "Epoch 9/50\n",
      "63/62 [==============================] - 1402s 22s/step - loss: 5.9014e-04 - acc: 1.0000 - val_loss: 0.0341 - val_acc: 0.9866\n",
      "\n",
      "Epoch 00009: val_acc did not improve from 0.99107\n",
      "\n",
      "Epoch 00009: val_loss did not improve from 0.01815\n",
      "Epoch 10/50\n",
      "63/62 [==============================] - 1413s 22s/step - loss: 4.9924e-04 - acc: 1.0000 - val_loss: 0.0692 - val_acc: 0.9777\n",
      "\n",
      "Epoch 00010: val_acc did not improve from 0.99107\n",
      "\n",
      "Epoch 00010: val_loss did not improve from 0.01815\n",
      "Epoch 11/50\n",
      "63/62 [==============================] - 1445s 23s/step - loss: 4.6738e-04 - acc: 1.0000 - val_loss: 0.0397 - val_acc: 0.9821\n",
      "\n",
      "Epoch 00011: val_acc did not improve from 0.99107\n",
      "\n",
      "Epoch 00011: val_loss did not improve from 0.01815\n",
      "Epoch 12/50\n",
      "63/62 [==============================] - 1437s 23s/step - loss: 4.5031e-04 - acc: 1.0000 - val_loss: 0.0320 - val_acc: 0.9821\n",
      "\n",
      "Epoch 00012: val_acc did not improve from 0.99107\n",
      "\n",
      "Epoch 00012: val_loss did not improve from 0.01815\n",
      "Epoch 00012: early stopping\n",
      "training done!\n",
      "evaluating training dataset...\n",
      "evaluating validation dataset...\n"
     ]
    },
    {
     "data": {
      "text/plain": [
       "<keras.engine.training.Model at 0x1c7b0184e0>"
      ]
     },
     "execution_count": 7,
     "metadata": {},
     "output_type": "execute_result"
    }
   ],
   "source": [
    "df_train = pd.read_csv('../data/csv_files/train_data.csv')[:300]\n",
    "df_val = pd.read_csv('../data/csv_files/val_data.csv')[:30]\n",
    "    \n",
    "'''data generator'''\n",
    "print('---generate data for training---')\n",
    "train_gen = DataGenerator(df=df_train, \n",
    "                                 short_edge_min=256, \n",
    "                                 short_edge_max=384, \n",
    "                                 crop_mode='center_crop', \n",
    "                                 batch_size=32,\n",
    "                                 x_col='image_path',\n",
    "                                 y_col='ground_truth')\n",
    "\n",
    "val_gen = DataGenerator(df=df_val, \n",
    "                                 short_edge_min=256, \n",
    "                                 short_edge_max=384, \n",
    "                                 crop_mode='center_crop', \n",
    "                                 batch_size=32,\n",
    "                                 x_col='image_path',\n",
    "                                 y_col='ground_truth')\n",
    "\n",
    "\n",
    "'''traning'''\n",
    "print('---training...---')\n",
    "train(train_data=train_gen, \n",
    "      val_data=val_gen, \n",
    "      result_path='../models',\n",
    "      model_name='densenet121',\n",
    "      batch_size=32,\n",
    "      optimizer='Adam',\n",
    "      nb_epoch=50,\n",
    "      lr=0.0001,\n",
    "      lr_decay=0.0005,\n",
    "      best_model_save='both',\n",
    "      loss_function='categorical_crossentropy',\n",
    "      reduce_lr=True,\n",
    "      early_stopping=True,\n",
    "      tensorboard=True,\n",
    "      reduce_lr_monitor='val_acc',\n",
    "      reduce_lr_factor=0.5,\n",
    "      redue_lr_patience=5,\n",
    "      early_stopping_monitor='val_loss',\n",
    "      early_stopping_patience=10,\n",
    "      multiprocessing=False,\n",
    "      evaluate=True)"
   ]
  }
 ],
 "metadata": {
  "anaconda-cloud": {},
  "kernelspec": {
   "display_name": "Python [anaconda3]",
   "language": "python",
   "name": "Python [anaconda3]"
  },
  "language_info": {
   "codemirror_mode": {
    "name": "ipython",
    "version": 3
   },
   "file_extension": ".py",
   "mimetype": "text/x-python",
   "name": "python",
   "nbconvert_exporter": "python",
   "pygments_lexer": "ipython3",
   "version": "3.7.3"
  }
 },
 "nbformat": 4,
 "nbformat_minor": 2
}
